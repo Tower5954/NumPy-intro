{
 "cells": [
  {
   "cell_type": "markdown",
   "id": "shaped-stereo",
   "metadata": {},
   "source": [
    "# Creating Arrays"
   ]
  },
  {
   "cell_type": "code",
   "execution_count": 1,
   "id": "terminal-merchant",
   "metadata": {},
   "outputs": [
    {
     "data": {
      "text/plain": [
       "array([1, 2, 3])"
      ]
     },
     "execution_count": 1,
     "metadata": {},
     "output_type": "execute_result"
    }
   ],
   "source": [
    "import numpy as np\n",
    "import pandas as pd\n",
    "\n",
    "\n",
    "sample_array = np.array([1, 2, 3])\n",
    "sample_array"
   ]
  },
  {
   "cell_type": "markdown",
   "id": "continued-grammar",
   "metadata": {},
   "source": [
    "# shift + tab to get docstring\n",
    "\n"
   ]
  },
  {
   "cell_type": "code",
   "execution_count": null,
   "id": "external-scout",
   "metadata": {},
   "outputs": [],
   "source": [
    "ones = np.ones((2,3))"
   ]
  },
  {
   "cell_type": "code",
   "execution_count": 3,
   "id": "collectible-universe",
   "metadata": {},
   "outputs": [
    {
     "data": {
      "text/plain": [
       "array([[1., 1., 1.],\n",
       "       [1., 1., 1.]])"
      ]
     },
     "execution_count": 3,
     "metadata": {},
     "output_type": "execute_result"
    }
   ],
   "source": [
    "ones"
   ]
  },
  {
   "cell_type": "code",
   "execution_count": 4,
   "id": "alpine-polyester",
   "metadata": {},
   "outputs": [
    {
     "data": {
      "text/plain": [
       "numpy.ndarray"
      ]
     },
     "execution_count": 4,
     "metadata": {},
     "output_type": "execute_result"
    }
   ],
   "source": [
    "type(ones)"
   ]
  },
  {
   "cell_type": "code",
   "execution_count": 5,
   "id": "stable-seventh",
   "metadata": {},
   "outputs": [],
   "source": [
    "zeros = np.zeros((2, 3))"
   ]
  },
  {
   "cell_type": "code",
   "execution_count": 6,
   "id": "victorian-welcome",
   "metadata": {},
   "outputs": [
    {
     "data": {
      "text/plain": [
       "array([[0., 0., 0.],\n",
       "       [0., 0., 0.]])"
      ]
     },
     "execution_count": 6,
     "metadata": {},
     "output_type": "execute_result"
    }
   ],
   "source": [
    "zeros"
   ]
  },
  {
   "cell_type": "code",
   "execution_count": 7,
   "id": "essential-indie",
   "metadata": {},
   "outputs": [],
   "source": [
    "range_array = np.arange(0, 10, 2)"
   ]
  },
  {
   "cell_type": "code",
   "execution_count": 8,
   "id": "medium-pilot",
   "metadata": {},
   "outputs": [
    {
     "data": {
      "text/plain": [
       "array([0, 2, 4, 6, 8])"
      ]
     },
     "execution_count": 8,
     "metadata": {},
     "output_type": "execute_result"
    }
   ],
   "source": [
    "range_array"
   ]
  },
  {
   "cell_type": "code",
   "execution_count": 9,
   "id": "worse-adolescent",
   "metadata": {},
   "outputs": [
    {
     "data": {
      "text/plain": [
       "array([[8, 2, 0, 4, 1],\n",
       "       [0, 8, 5, 4, 1],\n",
       "       [1, 5, 5, 1, 9]])"
      ]
     },
     "execution_count": 9,
     "metadata": {},
     "output_type": "execute_result"
    }
   ],
   "source": [
    "random_array = np.random.randint(0, 10, size=(3, 5))\n",
    "random_array"
   ]
  },
  {
   "cell_type": "code",
   "execution_count": 10,
   "id": "processed-constitutional",
   "metadata": {},
   "outputs": [
    {
     "data": {
      "text/plain": [
       "15"
      ]
     },
     "execution_count": 10,
     "metadata": {},
     "output_type": "execute_result"
    }
   ],
   "source": [
    "random_array.size"
   ]
  },
  {
   "cell_type": "code",
   "execution_count": 11,
   "id": "sporting-converter",
   "metadata": {},
   "outputs": [
    {
     "data": {
      "text/plain": [
       "(3, 5)"
      ]
     },
     "execution_count": 11,
     "metadata": {},
     "output_type": "execute_result"
    }
   ],
   "source": [
    "random_array.shape"
   ]
  },
  {
   "cell_type": "code",
   "execution_count": 19,
   "id": "interpreted-defendant",
   "metadata": {},
   "outputs": [],
   "source": [
    "rand_1 = np.random.random((5, 3,))"
   ]
  },
  {
   "cell_type": "code",
   "execution_count": 21,
   "id": "composite-jumping",
   "metadata": {},
   "outputs": [
    {
     "data": {
      "text/plain": [
       "array([[0.95688186, 0.01553964, 0.02714551],\n",
       "       [0.5991802 , 0.16780339, 0.62072683],\n",
       "       [0.90801412, 0.06273655, 0.0397154 ],\n",
       "       [0.30185117, 0.35113155, 0.529015  ],\n",
       "       [0.86715083, 0.14708459, 0.06633305]])"
      ]
     },
     "execution_count": 21,
     "metadata": {},
     "output_type": "execute_result"
    }
   ],
   "source": [
    "rand_1"
   ]
  },
  {
   "cell_type": "code",
   "execution_count": 22,
   "id": "tropical-bargain",
   "metadata": {},
   "outputs": [
    {
     "data": {
      "text/plain": [
       "2"
      ]
     },
     "execution_count": 22,
     "metadata": {},
     "output_type": "execute_result"
    }
   ],
   "source": [
    "rand_1.ndim"
   ]
  },
  {
   "cell_type": "code",
   "execution_count": 23,
   "id": "internal-mozambique",
   "metadata": {},
   "outputs": [],
   "source": [
    "rand_2 = np.random.random((5, 3, 2))"
   ]
  },
  {
   "cell_type": "code",
   "execution_count": 24,
   "id": "popular-wallpaper",
   "metadata": {},
   "outputs": [
    {
     "data": {
      "text/plain": [
       "array([[[0.34759729, 0.38011707],\n",
       "        [0.12515656, 0.90410319],\n",
       "        [0.66009497, 0.30528849]],\n",
       "\n",
       "       [[0.51692631, 0.35681911],\n",
       "        [0.15425317, 0.70773905],\n",
       "        [0.05808371, 0.4796487 ]],\n",
       "\n",
       "       [[0.06807538, 0.39811122],\n",
       "        [0.58172231, 0.39452561],\n",
       "        [0.14546315, 0.94815475]],\n",
       "\n",
       "       [[0.9177081 , 0.42242368],\n",
       "        [0.94238639, 0.31620113],\n",
       "        [0.62512879, 0.32936   ]],\n",
       "\n",
       "       [[0.12362799, 0.70826131],\n",
       "        [0.88352373, 0.62211725],\n",
       "        [0.46830491, 0.45068035]]])"
      ]
     },
     "execution_count": 24,
     "metadata": {},
     "output_type": "execute_result"
    }
   ],
   "source": [
    "rand_2"
   ]
  },
  {
   "cell_type": "code",
   "execution_count": 25,
   "id": "impressed-enemy",
   "metadata": {},
   "outputs": [
    {
     "data": {
      "text/plain": [
       "3"
      ]
     },
     "execution_count": 25,
     "metadata": {},
     "output_type": "execute_result"
    }
   ],
   "source": [
    "rand_2.ndim"
   ]
  },
  {
   "cell_type": "code",
   "execution_count": 27,
   "id": "alpha-easter",
   "metadata": {},
   "outputs": [],
   "source": [
    "random_array_3 = np.random.rand(5, 3)"
   ]
  },
  {
   "cell_type": "code",
   "execution_count": 28,
   "id": "controversial-strengthening",
   "metadata": {},
   "outputs": [
    {
     "data": {
      "text/plain": [
       "array([[0.14682597, 0.15336884, 0.5994976 ],\n",
       "       [0.9340773 , 0.37718936, 0.56196102],\n",
       "       [0.89635651, 0.30727299, 0.3385623 ],\n",
       "       [0.85739497, 0.66887243, 0.90036512],\n",
       "       [0.9518299 , 0.29961574, 0.9220469 ]])"
      ]
     },
     "execution_count": 28,
     "metadata": {},
     "output_type": "execute_result"
    }
   ],
   "source": [
    "random_array_3"
   ]
  },
  {
   "cell_type": "code",
   "execution_count": null,
   "id": "vital-memphis",
   "metadata": {},
   "outputs": [],
   "source": []
  }
 ],
 "metadata": {
  "kernelspec": {
   "display_name": "Python 3",
   "language": "python",
   "name": "python3"
  },
  "language_info": {
   "codemirror_mode": {
    "name": "ipython",
    "version": 3
   },
   "file_extension": ".py",
   "mimetype": "text/x-python",
   "name": "python",
   "nbconvert_exporter": "python",
   "pygments_lexer": "ipython3",
   "version": "3.9.2"
  }
 },
 "nbformat": 4,
 "nbformat_minor": 5
}
